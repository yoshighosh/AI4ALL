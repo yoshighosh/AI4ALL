{
  "nbformat": 4,
  "nbformat_minor": 0,
  "metadata": {
    "colab": {
      "name": "P3: Python Pt. 3 (Writing Functions, Collections, and Matplotlib)",
      "version": "0.3.2",
      "provenance": [],
      "collapsed_sections": [],
      "include_colab_link": true
    },
    "kernelspec": {
      "name": "python3",
      "display_name": "Python 3"
    }
  },
  "cells": [
    {
      "cell_type": "markdown",
      "metadata": {
        "id": "view-in-github",
        "colab_type": "text"
      },
      "source": [
        "<a href=\"https://colab.research.google.com/github/yoshighosh/AI4ALL/blob/master/P3_Python_Pt_3_(Writing_Functions%2C_Collections%2C_and_Matplotlib).ipynb\" target=\"_parent\"><img src=\"https://colab.research.google.com/assets/colab-badge.svg\" alt=\"Open In Colab\"/></a>"
      ]
    },
    {
      "cell_type": "markdown",
      "metadata": {
        "id": "iUyyfapQJhxX",
        "colab_type": "text"
      },
      "source": [
        "### Instructor's Notes (please delete this cell before sharing with students)\n",
        "\n",
        "This lesson is intended to be run after Introduction to Python Pt. 1 and 2. It may also be useful to run this Notebook before Lesson 4 (Classification) and beyond."
      ]
    },
    {
      "cell_type": "markdown",
      "metadata": {
        "id": "YYVGF7JaPxYU",
        "colab_type": "text"
      },
      "source": [
        "# Working with Data\n",
        "\n",
        "In this lesson, we'll start to wrap up on some of the fundamentals of Python and start to think about how to work with data using Python.\n",
        "\n",
        "A large part of programming for artificial intelligence and machine learning is using and manipulating data, and the goal of this lesson is to look at a few tools in Python that help us organize and visualize that data. Keep this in mind while we go through the lesson -- there are quite a few concepts we'll go over, but remember that they serve as fundamental tools in our toolbox that we'll use for the hands-on projects.\n",
        "\n",
        "As always, you got this!\n",
        "\n",
        "![alt text](https://media.giphy.com/media/14bhmZtBNhVnIk/giphy.gif)\n",
        "\n",
        "(Batman's superpowers: being rich, having lots of tools, and having lots of data about everything.)"
      ]
    },
    {
      "cell_type": "markdown",
      "metadata": {
        "id": "foEnacjgVTRm",
        "colab_type": "text"
      },
      "source": [
        "## Quick Review Exercise\n",
        "\n",
        "Let's take a quick moment to review using libraries, which we saw in the previous lesson.\n",
        "\n",
        "Python has a built-in library called `math` that includes some useful math functions. One of these is `math.sqrt()` which takes 1 number as a parameter and returns its square root.\n",
        "\n",
        "For example:\n",
        "\n",
        "```\n",
        "print(math.sqrt(144))\n",
        "```\n",
        "\n",
        "will print 12.\n",
        "\n",
        "Write a program that asks the user for a number input and then uses the `math.sqrt()` function and a conditional to tell them if they've entered a perfect square.\n",
        "\n",
        "One example of your output:\n",
        "\n",
        "```\n",
        "Enter a number: 23\n",
        "This is not a perfect square.\n",
        "```\n",
        "\n",
        "Another example:\n",
        "\n",
        "```\n",
        "Enter a number: 121\n",
        "This is a perfect square.\n",
        "```\n",
        "\n",
        "Hint: Recall that a \"perfect square\" is a number whose square root is an integer. (For example, the square root of 121 is 11, so it is a perfect square. The square root of 23 is 4.795... so it is not a perfect square.)"
      ]
    },
    {
      "cell_type": "code",
      "metadata": {
        "id": "3fvHjetxXn0b",
        "colab_type": "code",
        "outputId": "81142c10-e9e1-481d-9e6e-3b0de7699995",
        "colab": {
          "base_uri": "https://localhost:8080/",
          "height": 52
        }
      },
      "source": [
        "# Write your code here\n",
        "\n",
        "number = input(\"Enter a number: \")\n",
        "square = int(number)**(1/2)\n",
        "\n",
        "if square.is_integer():\n",
        "    print(\"This is a perfect square.\")\n",
        "else:\n",
        "    print(\"This is NOT a perfect square\")"
      ],
      "execution_count": 0,
      "outputs": [
        {
          "output_type": "stream",
          "text": [
            "Enter a number: 143\n",
            "This is NOT a perfect square\n"
          ],
          "name": "stdout"
        }
      ]
    },
    {
      "cell_type": "markdown",
      "metadata": {
        "id": "ij7C-X-mZN0D",
        "colab_type": "text"
      },
      "source": [
        "Hint 2: (Try the problem out before reading this hint.) There are a few different ways to do this! One particularly clever way is to use the `%` operator. There also happens to be an `is_integer()` function in Python that you can call by writing `num.is_integer()`."
      ]
    },
    {
      "cell_type": "markdown",
      "metadata": {
        "id": "UrbcN1lVZVU8",
        "colab_type": "text"
      },
      "source": [
        "## Writing Functions\n",
        "\n",
        "So far, we've only been calling functions that have already been written by others. How can we write our own function?\n",
        "\n",
        "Let's take the square root example above. Let's say we don't want to use the `math` library or just want to write and use our own square root function. \n",
        "\n",
        "First, we need to think about a clever mathematical way to get a square root. If you recall from math, putting a number to the $1/2$ exponent is the same as performing a square root! For example:\n",
        "\n",
        "$$ 25^{1/2} = 5 $$\n",
        "\n",
        "Recall how we do exponentiation in Python:"
      ]
    },
    {
      "cell_type": "code",
      "metadata": {
        "id": "8zUqp3MSaKLJ",
        "colab_type": "code",
        "outputId": "ae238244-0bdc-474b-b51e-74af25941f70",
        "colab": {
          "base_uri": "https://localhost:8080/",
          "height": 34
        }
      },
      "source": [
        "a = 25 ** (1/2)\n",
        "print(a)"
      ],
      "execution_count": 0,
      "outputs": [
        {
          "output_type": "stream",
          "text": [
            "5.0\n"
          ],
          "name": "stdout"
        }
      ]
    },
    {
      "cell_type": "markdown",
      "metadata": {
        "id": "11mR8EGPaUE9",
        "colab_type": "text"
      },
      "source": [
        "Now that we know how to get the square root of a number, we need to figure out how to write this as a function.\n",
        "\n",
        "Let's think about what we want as our input and output of this function.\n",
        "\n",
        "**What should the input to this function be?**\n",
        "\n",
        "**What should the output of this function be?**\n",
        "\n",
        "Take a moment to think about and answer these two questions."
      ]
    },
    {
      "cell_type": "markdown",
      "metadata": {
        "id": "TMohLuRga4bG",
        "colab_type": "text"
      },
      "source": [
        "\n",
        "\n",
        "---\n",
        "\n",
        "Answer:\n",
        "\n",
        "We want to input a single number to our function, and the output should be its square root.\n",
        "\n",
        "Because we are inputting only one number, our function should have 1 parameter.\n",
        "\n",
        "We can name our functions whatever we like, so in this case, let's call our function `square_root()`. An example of using `square_root()` in some code might look like:\n",
        "\n",
        "```\n",
        "a = square_root(25)\n",
        "print(a)\n",
        "```\n",
        "\n",
        "which should print `5`."
      ]
    },
    {
      "cell_type": "markdown",
      "metadata": {
        "id": "bu5VXGKXbdTt",
        "colab_type": "text"
      },
      "source": [
        "Now that we've figured out what we want our function to do, and what we want to name it, it's time to actually write it. The following is what a square root function might look like:"
      ]
    },
    {
      "cell_type": "code",
      "metadata": {
        "id": "yf3CR1-cbkDi",
        "colab_type": "code",
        "colab": {}
      },
      "source": [
        "def square_root(x):\n",
        "  return x ** (1/2)"
      ],
      "execution_count": 0,
      "outputs": []
    },
    {
      "cell_type": "markdown",
      "metadata": {
        "id": "ImD21scPbxJE",
        "colab_type": "text"
      },
      "source": [
        "The keyword `def` tells our computer that we are about to _define_ a function. In this particular case, we're defining a function named `square_root` that happens to take one parameter. Just like when we write `for` loops, we can choose the name of this variable, as it's a placeholder that we refer to only within our function.\n",
        "\n",
        "Our function in this particular case returns `x ** (1/2)`, which is the square root of `x`, the input.\n",
        "\n",
        "Let's see this function in action:"
      ]
    },
    {
      "cell_type": "code",
      "metadata": {
        "id": "HbHtp1uZcVOm",
        "colab_type": "code",
        "outputId": "97c80e97-3180-4d44-ee0b-a8fc8f7dcc8b",
        "colab": {
          "base_uri": "https://localhost:8080/",
          "height": 34
        }
      },
      "source": [
        "def square_root(x):\n",
        "  return x ** (1/2)\n",
        "\n",
        "a = square_root(25)\n",
        "print(a)"
      ],
      "execution_count": 0,
      "outputs": [
        {
          "output_type": "stream",
          "text": [
            "5.0\n"
          ],
          "name": "stdout"
        }
      ]
    },
    {
      "cell_type": "markdown",
      "metadata": {
        "id": "y0PQMBZlcak0",
        "colab_type": "text"
      },
      "source": [
        "In the example above, what does `x` equal when we call `square_root(25)`?"
      ]
    },
    {
      "cell_type": "markdown",
      "metadata": {
        "id": "4b3EMszjcugP",
        "colab_type": "text"
      },
      "source": [
        "\n",
        "\n",
        "---\n",
        "\n",
        "Functions are useful because we often have logical blocks in our code that we want to re-use. Imagine having to type `x ** (1/2)` every time you want to take a square root -- it might be easier to say `square_root(x)`. For reading purposes, it also helps make it more clear what your code is doing.\n",
        "\n",
        "Think about the earlier exercise about writing a program that takes in a number and tells the user if that number is a perfect square. What if we wanted to do this functionality multiple times in the same program? We could copy and paste the code every time we want to check if a number is a perfect square, but this would make our program very long and hard to update.\n",
        "\n",
        "Instead, we could do something like:"
      ]
    },
    {
      "cell_type": "code",
      "metadata": {
        "id": "xn8TEX9Cdkj-",
        "colab_type": "code",
        "outputId": "da06da62-5221-4639-cedf-32e14ed3ebf9",
        "colab": {
          "base_uri": "https://localhost:8080/",
          "height": 51
        }
      },
      "source": [
        "def square_root(x):\n",
        "  return x ** (1/2)\n",
        "\n",
        "def is_perfect_square(x):\n",
        "  return square_root(x).is_integer()\n",
        "\n",
        "print(is_perfect_square(23))\n",
        "print(is_perfect_square(121))"
      ],
      "execution_count": 0,
      "outputs": [
        {
          "output_type": "stream",
          "text": [
            "False\n",
            "True\n"
          ],
          "name": "stdout"
        }
      ]
    },
    {
      "cell_type": "markdown",
      "metadata": {
        "id": "ckYx_sr4d6uD",
        "colab_type": "text"
      },
      "source": [
        "In this case, we've written a function called `is_perfect_square()` that takes in one parameter and returns whether the square root of that parameter is an integer or not. `is_integer()` happens to be a function, like `print()`, that's already pre-built into Python that we can use.\n",
        "\n",
        "But what ends up being printed? `False` and `True`!\n",
        "\n",
        "These are examples of the Boolean data type (which we briefly mentioned in the first lesson)."
      ]
    },
    {
      "cell_type": "markdown",
      "metadata": {
        "id": "xRHjNOoxfFic",
        "colab_type": "text"
      },
      "source": [
        "### An Aside: Booleans\n",
        "\n",
        "We've actually been using booleans throughout our code. Let's look at the following conditionals:"
      ]
    },
    {
      "cell_type": "code",
      "metadata": {
        "id": "tNB0gBZ0e8YN",
        "colab_type": "code",
        "outputId": "3818fc71-aac4-4387-ed74-0463a17408b1",
        "colab": {
          "base_uri": "https://localhost:8080/",
          "height": 34
        }
      },
      "source": [
        "if True:\n",
        "  print(\"This will always print!\")\n",
        "  \n",
        "if False:\n",
        "  print(\"This will never print.\")"
      ],
      "execution_count": 0,
      "outputs": [
        {
          "output_type": "stream",
          "text": [
            "This will always print!\n"
          ],
          "name": "stdout"
        }
      ]
    },
    {
      "cell_type": "markdown",
      "metadata": {
        "id": "lEBlkGa_fBfX",
        "colab_type": "text"
      },
      "source": [
        "When we use if statements, we're actually checking for the booleans `True` and `False`. If the condition in the if statement is `True`, then we will perform the code block underneath. If it is `False`, we will not."
      ]
    },
    {
      "cell_type": "code",
      "metadata": {
        "id": "SJOsg7Z9flYR",
        "colab_type": "code",
        "outputId": "00c91bae-7e81-4cfc-f6fe-24b76b6cca64",
        "colab": {
          "base_uri": "https://localhost:8080/",
          "height": 68
        }
      },
      "source": [
        "if 5 > 3:\n",
        "  print(\"This will always print!\")\n",
        "  \n",
        "print(\"Notice what the following line prints:\")\n",
        "print(5 > 3)"
      ],
      "execution_count": 0,
      "outputs": [
        {
          "output_type": "stream",
          "text": [
            "This will always print!\n",
            "Notice what the following line prints:\n",
            "True\n"
          ],
          "name": "stdout"
        }
      ]
    },
    {
      "cell_type": "markdown",
      "metadata": {
        "id": "ot8AtJ-jfyPB",
        "colab_type": "text"
      },
      "source": [
        "Revisiting our perfect square example, let's say we want to tell the user in a complete sentence whether their number is a perfect square or not. We know that `is_perfect_square()` returns a boolean, so let's combine it with a conditional:"
      ]
    },
    {
      "cell_type": "code",
      "metadata": {
        "id": "BLN2dz2qgAu8",
        "colab_type": "code",
        "outputId": "0298061f-26c0-4c59-a9c8-9b0680eb9061",
        "colab": {
          "base_uri": "https://localhost:8080/",
          "height": 51
        }
      },
      "source": [
        "num = int(input(\"Enter an integer: \"))\n",
        "\n",
        "if is_perfect_square(num):\n",
        "  print(\"Your number was a perfect square.\")\n",
        "else:\n",
        "  print(\"Your number was not a perfect square.\")"
      ],
      "execution_count": 0,
      "outputs": [
        {
          "output_type": "stream",
          "text": [
            "Enter an integer: 23\n",
            "Your number was not a perfect square.\n"
          ],
          "name": "stdout"
        }
      ]
    },
    {
      "cell_type": "markdown",
      "metadata": {
        "id": "abnFYWclgT4Y",
        "colab_type": "text"
      },
      "source": [
        "Notice that we didn't have to re-write all of the `is_perfect_square()` code again! This is because we had already written and run that code once before, so we can keep re-using it in the future. That's why functions are so useful!"
      ]
    },
    {
      "cell_type": "markdown",
      "metadata": {
        "id": "vrEQBQQcgjIl",
        "colab_type": "text"
      },
      "source": [
        "### Function Exercises"
      ]
    },
    {
      "cell_type": "markdown",
      "metadata": {
        "id": "1HMKIwe3gliQ",
        "colab_type": "text"
      },
      "source": [
        "1. Read the following code. What do you think it does?"
      ]
    },
    {
      "cell_type": "code",
      "metadata": {
        "id": "cQViBYqcg270",
        "colab_type": "code",
        "outputId": "f28720af-1029-4a70-8424-f44896144a4b",
        "colab": {
          "base_uri": "https://localhost:8080/",
          "height": 34
        }
      },
      "source": [
        "def weird_func(a, b):\n",
        "  test = a + b\n",
        "  return test * 2\n",
        "\n",
        "x = 5\n",
        "y = 10\n",
        "\n",
        "if weird_func(x, y) > 30:\n",
        "  print(\"Will this print?\")\n",
        "  \n",
        "if weird_func(10, 10) > 30:\n",
        "  print(\"How about this?\")"
      ],
      "execution_count": 0,
      "outputs": [
        {
          "output_type": "stream",
          "text": [
            "How about this?\n"
          ],
          "name": "stdout"
        }
      ]
    },
    {
      "cell_type": "markdown",
      "metadata": {
        "id": "CqXs4GP1hRMA",
        "colab_type": "text"
      },
      "source": [
        "2. Write a function named `wheres_Waldo` that takes a list as a parameter and returns whether the element \"Waldo\" is in the list.\n",
        "\n",
        "Remember that you can use the keyword `in` to check if an element is in a list, like so:"
      ]
    },
    {
      "cell_type": "code",
      "metadata": {
        "id": "hLzxVYlIh0cf",
        "colab_type": "code",
        "outputId": "e4296e3c-c977-454a-af31-994df5a63b5c",
        "colab": {
          "base_uri": "https://localhost:8080/",
          "height": 34
        }
      },
      "source": [
        "lis = [\"Pikachu\", \"Captain Marvel\", \"Waldo\"]\n",
        "print(\"Waldo\" in lis)"
      ],
      "execution_count": 0,
      "outputs": [
        {
          "output_type": "stream",
          "text": [
            "True\n"
          ],
          "name": "stdout"
        }
      ]
    },
    {
      "cell_type": "code",
      "metadata": {
        "id": "6-b2cQAPh19N",
        "colab_type": "code",
        "colab": {}
      },
      "source": [
        "# Write your function code here\n",
        "\n",
        "def wheres_Waldo(lis):\n",
        "    if \"Waldo\" in lis:\n",
        "        return True\n",
        "    else:\n",
        "        return False"
      ],
      "execution_count": 0,
      "outputs": []
    },
    {
      "cell_type": "markdown",
      "metadata": {
        "id": "JqWmoZdFKX9C",
        "colab_type": "text"
      },
      "source": [
        "## Slicing\n",
        "\n",
        "![alt text](https://media.giphy.com/media/OHNg1tHZcUcKc/giphy.gif)\n",
        "\n",
        "Not that type of slicing."
      ]
    },
    {
      "cell_type": "markdown",
      "metadata": {
        "id": "GPwO8f4CsLs_",
        "colab_type": "text"
      },
      "source": [
        "Recall how we access individual elements of lists:"
      ]
    },
    {
      "cell_type": "code",
      "metadata": {
        "id": "fbTgOU-7Rq_Z",
        "colab_type": "code",
        "colab": {}
      },
      "source": [
        "lis = [\"The Poet X\", \"Electric Arches\", \"America Is Not The Heart\", \"Reliquaria\"]\n",
        "\n",
        "# If we wanted to print the element \"Electric Arches\":\n",
        "print(lis[1])"
      ],
      "execution_count": 0,
      "outputs": []
    },
    {
      "cell_type": "markdown",
      "metadata": {
        "id": "XSOfzV7AR_oY",
        "colab_type": "text"
      },
      "source": [
        "A common thing we'll want to do when working with data is to get multiple elements from a list."
      ]
    },
    {
      "cell_type": "code",
      "metadata": {
        "id": "hCo6JqtYSdgV",
        "colab_type": "code",
        "outputId": "3ae027b3-d096-412f-a277-d557f7829477",
        "colab": {
          "base_uri": "https://localhost:8080/",
          "height": 34
        }
      },
      "source": [
        "lis = [\"The Poet X\", \"Electric Arches\", \"America Is Not The Heart\", \"Reliquaria\"]\n",
        "\n",
        "sub_lis = lis[0:2]\n",
        "\n",
        "# What do you think this will print?\n",
        "print(sub_lis)"
      ],
      "execution_count": 0,
      "outputs": [
        {
          "output_type": "stream",
          "text": [
            "['The Poet X', 'Electric Arches']\n"
          ],
          "name": "stdout"
        }
      ]
    },
    {
      "cell_type": "markdown",
      "metadata": {
        "id": "w3XWX6UASptR",
        "colab_type": "text"
      },
      "source": [
        "When we say `lis[0:2]`, we are telling Python to return us a new list that is a _slice_ of the original list. Specifically, we want this new list to start at the element whose index is 0 and go up to (but don't include) the element whose index is 2.\n",
        "\n",
        "In the above example, that means the new list will include \"The Poet X\" (index 0) and \"Electric Arches\" (index 1)."
      ]
    },
    {
      "cell_type": "code",
      "metadata": {
        "id": "3OZ6yoXATBtJ",
        "colab_type": "code",
        "outputId": "b4490d14-3070-4025-e0ad-c152b4fe70c7",
        "colab": {
          "base_uri": "https://localhost:8080/",
          "height": 34
        }
      },
      "source": [
        "lis = [\"The Poet X\", \"Electric Arches\", \"America Is Not The Heart\", \"Reliquaria\"]\n",
        "\n",
        "# Finish the following line so that your slice has \"America Is Not the Heart\" and \"Reliquaria\"\n",
        "sub_lis = \n",
        "\n",
        "print(sub_lis)"
      ],
      "execution_count": 0,
      "outputs": [
        {
          "output_type": "stream",
          "text": [
            "['America Is Not The Heart', 'Reliquaria']\n"
          ],
          "name": "stdout"
        }
      ]
    },
    {
      "cell_type": "markdown",
      "metadata": {
        "id": "5pZfovAZToxK",
        "colab_type": "text"
      },
      "source": [
        "The Python creators also provided a shortcut for doing our slices:"
      ]
    },
    {
      "cell_type": "code",
      "metadata": {
        "id": "UsoWzGF7Tzqn",
        "colab_type": "code",
        "outputId": "6e972723-9026-411f-ecbe-728bffc88f2e",
        "colab": {
          "base_uri": "https://localhost:8080/",
          "height": 34
        }
      },
      "source": [
        "lis = [\"The Poet X\", \"Electric Arches\", \"America Is Not The Heart\", \"Reliquaria\"]\n",
        "\n",
        "sub_lis = lis[:2]\n",
        "print(sub_lis)"
      ],
      "execution_count": 0,
      "outputs": [
        {
          "output_type": "stream",
          "text": [
            "['The Poet X', 'Electric Arches']\n"
          ],
          "name": "stdout"
        }
      ]
    },
    {
      "cell_type": "markdown",
      "metadata": {
        "id": "3WwEBqUpUF7D",
        "colab_type": "text"
      },
      "source": [
        "When you leave out the number before the `:`, Python assumes you mean the first element (index 0).\n",
        "\n",
        "You can do the same for leaving out the number after the `:`. What do you think this does?"
      ]
    },
    {
      "cell_type": "code",
      "metadata": {
        "id": "MBWj0cQBUPF9",
        "colab_type": "code",
        "outputId": "67f73859-ab45-4ecc-a273-89602995d87d",
        "colab": {
          "base_uri": "https://localhost:8080/",
          "height": 34
        }
      },
      "source": [
        "lis = [\"The Poet X\", \"Electric Arches\", \"America Is Not The Heart\", \"Reliquaria\"]\n",
        "\n",
        "sub_lis = lis[2:]\n",
        "print(sub_lis)"
      ],
      "execution_count": 0,
      "outputs": [
        {
          "output_type": "stream",
          "text": [
            "['America Is Not The Heart', 'Reliquaria']\n"
          ],
          "name": "stdout"
        }
      ]
    },
    {
      "cell_type": "markdown",
      "metadata": {
        "id": "Zj0GGma1UWpl",
        "colab_type": "text"
      },
      "source": [
        "We can actually use slicing for some other types of data, not just lists. For example, slicing with strings:"
      ]
    },
    {
      "cell_type": "code",
      "metadata": {
        "id": "Btnnr0_zUhVQ",
        "colab_type": "code",
        "outputId": "1ae9d38a-7f73-4eeb-a5ff-fe09e884b290",
        "colab": {
          "base_uri": "https://localhost:8080/",
          "height": 34
        }
      },
      "source": [
        "string = \"This is a string!\"\n",
        "\n",
        "# Can you guess what this will print?\n",
        "sub_string = string[10:]\n",
        "print(sub_string)"
      ],
      "execution_count": 0,
      "outputs": [
        {
          "output_type": "stream",
          "text": [
            "string!\n"
          ],
          "name": "stdout"
        }
      ]
    },
    {
      "cell_type": "markdown",
      "metadata": {
        "id": "OhmokoYmUvAJ",
        "colab_type": "text"
      },
      "source": [
        "As you may have guessed, each character in a string can be indexed just like how we've been indexing into lists. This is very useful if you're working with string manipulation and natural language data.\n",
        "\n",
        "Example:"
      ]
    },
    {
      "cell_type": "code",
      "metadata": {
        "id": "x2eC6_RmU_XI",
        "colab_type": "code",
        "outputId": "01a9b66b-0bbd-43a0-fff1-bc39ccc8050c",
        "colab": {
          "base_uri": "https://localhost:8080/",
          "height": 34
        }
      },
      "source": [
        "string = \"This is a string!\"\n",
        "\n",
        "# If I wanted the first character of this string, 'T', I would do:\n",
        "first_char = string[0]\n",
        "print(\"The first character of the string is\", first_char)"
      ],
      "execution_count": 0,
      "outputs": [
        {
          "output_type": "stream",
          "text": [
            "The first character of the string is T\n"
          ],
          "name": "stdout"
        }
      ]
    },
    {
      "cell_type": "markdown",
      "metadata": {
        "id": "QH0VhK3nTUae",
        "colab_type": "text"
      },
      "source": [
        "We'll see slicing quite commonly in machine learning, because we often want to use smaller or specific portions of our data."
      ]
    },
    {
      "cell_type": "markdown",
      "metadata": {
        "id": "_8SK0P5xBuNP",
        "colab_type": "text"
      },
      "source": [
        "## Sets, tuples, and dictionaries, oh my!\n",
        "\n",
        "While integers, strings, and booleans are data types, a list is typically referred to as a **data structure**, which is a _collection_ of data that is governed by a specific set of rules for accessing, organizing, adding, and removing data.\n",
        "\n",
        "We'll make use of a few different data structures when manipulating data for machine learning -- each has its particular use cases."
      ]
    },
    {
      "cell_type": "markdown",
      "metadata": {
        "id": "4dMUJWUSkOPk",
        "colab_type": "text"
      },
      "source": [
        "### Adding to and removing from a list\n",
        "\n",
        "To get started, let's look at how we can add and remove data from a list.\n",
        "\n",
        "There are actually lots of ways to do this, like:"
      ]
    },
    {
      "cell_type": "code",
      "metadata": {
        "id": "5HjztRIMkoIE",
        "colab_type": "code",
        "outputId": "385d22ce-a7d7-4563-8ea9-2a7cd95e5656",
        "colab": {
          "base_uri": "https://localhost:8080/",
          "height": 34
        }
      },
      "source": [
        "# This is an empty list\n",
        "lis = []\n",
        "\n",
        "lis.append(\"My Hero Academia\")\n",
        "lis.append(\"Your Name\")\n",
        "print(lis)"
      ],
      "execution_count": 0,
      "outputs": [
        {
          "output_type": "stream",
          "text": [
            "['My Hero Academia', 'Your Name']\n"
          ],
          "name": "stdout"
        }
      ]
    },
    {
      "cell_type": "markdown",
      "metadata": {
        "id": "JUSC7VyGk3RT",
        "colab_type": "text"
      },
      "source": [
        "`append()` adds an element to the end of the list. What if we wanted to insert at a specific index?"
      ]
    },
    {
      "cell_type": "code",
      "metadata": {
        "id": "zMunEOU3k_dn",
        "colab_type": "code",
        "outputId": "abdb4575-9bf0-4a09-f8b8-e9ac37eb0200",
        "colab": {
          "base_uri": "https://localhost:8080/",
          "height": 34
        }
      },
      "source": [
        "lis = [\"My Hero Academia\", \"Your Name\"]\n",
        "lis.insert(1, \"Totoro\")\n",
        "print(lis)"
      ],
      "execution_count": 0,
      "outputs": [
        {
          "output_type": "stream",
          "text": [
            "['My Hero Academia', 'Totoro', 'Your Name']\n"
          ],
          "name": "stdout"
        }
      ]
    },
    {
      "cell_type": "markdown",
      "metadata": {
        "id": "gv7v23rrlSCx",
        "colab_type": "text"
      },
      "source": [
        "We can remove elements using other functions that are built-in."
      ]
    },
    {
      "cell_type": "code",
      "metadata": {
        "id": "WS6CI-9GlV5U",
        "colab_type": "code",
        "outputId": "063d6e37-f51a-4017-cb11-10c530d2b4d1",
        "colab": {
          "base_uri": "https://localhost:8080/",
          "height": 68
        }
      },
      "source": [
        "lis = [\"My Hero Academia\", \"Totoro\", \"Your Name\", \"Avatar: The Last Airbender\"]\n",
        "\n",
        "# Looks for the element \"Totoro\" and removes it\n",
        "lis.remove(\"Totoro\")\n",
        "print(lis)\n",
        "\n",
        "# Remove an element with this specific index\n",
        "lis.pop(1)\n",
        "print(lis)\n",
        "\n",
        "# Removes the last element when no parameter is given\n",
        "lis.pop()\n",
        "print(lis)"
      ],
      "execution_count": 0,
      "outputs": [
        {
          "output_type": "stream",
          "text": [
            "['My Hero Academia', 'Your Name', 'Avatar: The Last Airbender']\n",
            "['My Hero Academia', 'Avatar: The Last Airbender']\n",
            "['My Hero Academia']\n"
          ],
          "name": "stdout"
        }
      ]
    },
    {
      "cell_type": "markdown",
      "metadata": {
        "id": "X6vGRRhLl1aF",
        "colab_type": "text"
      },
      "source": [
        "You can also modify the elements in a list, using indexing:"
      ]
    },
    {
      "cell_type": "code",
      "metadata": {
        "id": "qpj4x347mEQf",
        "colab_type": "code",
        "outputId": "44fad012-e291-4076-d9bb-149ada7467d6",
        "colab": {
          "base_uri": "https://localhost:8080/",
          "height": 34
        }
      },
      "source": [
        "lis = [\"My Hero Academia\", \"Totoro\", \"Your Name\"]\n",
        "lis[1] = \"Spirited Away\"\n",
        "print(lis)"
      ],
      "execution_count": 0,
      "outputs": [
        {
          "output_type": "stream",
          "text": [
            "['My Hero Academia', 'Spirited Away', 'Your Name']\n"
          ],
          "name": "stdout"
        }
      ]
    },
    {
      "cell_type": "markdown",
      "metadata": {
        "id": "KcmHHfnxmNSr",
        "colab_type": "text"
      },
      "source": [
        "### Tuples\n",
        "\n",
        "What if you wanted a collection of data like a list where you didn't want the elements in it to be modified? you can use a tuple!\n",
        "\n",
        "In Python, we use `()` to show that we're using a tuple:"
      ]
    },
    {
      "cell_type": "code",
      "metadata": {
        "id": "-3NR673wmpXp",
        "colab_type": "code",
        "outputId": "7873bc92-a879-4a40-ec05-388f99f4649a",
        "colab": {
          "base_uri": "https://localhost:8080/",
          "height": 51
        }
      },
      "source": [
        "tup = (\"My Hero Academia\", \"Totoro\")\n",
        "print(tup)\n",
        "print(tup[0])"
      ],
      "execution_count": 0,
      "outputs": [
        {
          "output_type": "stream",
          "text": [
            "('My Hero Academia', 'Totoro')\n",
            "My Hero Academia\n"
          ],
          "name": "stdout"
        }
      ]
    },
    {
      "cell_type": "markdown",
      "metadata": {
        "id": "XAmgzoLfmt8g",
        "colab_type": "text"
      },
      "source": [
        "The following examples will both give you an error:"
      ]
    },
    {
      "cell_type": "code",
      "metadata": {
        "id": "ty9oxv1wmvXQ",
        "colab_type": "code",
        "outputId": "ac42120b-93ae-4aca-fc94-02c49844a6b5",
        "colab": {
          "base_uri": "https://localhost:8080/",
          "height": 198
        }
      },
      "source": [
        "tup = (\"My Hero Academia\", \"Totoro\")\n",
        "tup[1] = \"Spirited Away\"\n",
        "print(tup)"
      ],
      "execution_count": 0,
      "outputs": [
        {
          "output_type": "error",
          "ename": "TypeError",
          "evalue": "ignored",
          "traceback": [
            "\u001b[0;31m---------------------------------------------------------------------------\u001b[0m",
            "\u001b[0;31mTypeError\u001b[0m                                 Traceback (most recent call last)",
            "\u001b[0;32m<ipython-input-35-f1afea7b7071>\u001b[0m in \u001b[0;36m<module>\u001b[0;34m()\u001b[0m\n\u001b[1;32m      1\u001b[0m \u001b[0mtup\u001b[0m \u001b[0;34m=\u001b[0m \u001b[0;34m(\u001b[0m\u001b[0;34m\"My Hero Academia\"\u001b[0m\u001b[0;34m,\u001b[0m \u001b[0;34m\"Totoro\"\u001b[0m\u001b[0;34m)\u001b[0m\u001b[0;34m\u001b[0m\u001b[0;34m\u001b[0m\u001b[0m\n\u001b[0;32m----> 2\u001b[0;31m \u001b[0mtup\u001b[0m\u001b[0;34m[\u001b[0m\u001b[0;36m1\u001b[0m\u001b[0;34m]\u001b[0m \u001b[0;34m=\u001b[0m \u001b[0;34m\"Spirited Away\"\u001b[0m\u001b[0;34m\u001b[0m\u001b[0;34m\u001b[0m\u001b[0m\n\u001b[0m\u001b[1;32m      3\u001b[0m \u001b[0mprint\u001b[0m\u001b[0;34m(\u001b[0m\u001b[0mtup\u001b[0m\u001b[0;34m)\u001b[0m\u001b[0;34m\u001b[0m\u001b[0;34m\u001b[0m\u001b[0m\n",
            "\u001b[0;31mTypeError\u001b[0m: 'tuple' object does not support item assignment"
          ]
        }
      ]
    },
    {
      "cell_type": "code",
      "metadata": {
        "id": "qxbxb4R1qAIi",
        "colab_type": "code",
        "outputId": "57cf3435-6524-491c-933b-b45cdf0aba24",
        "colab": {
          "base_uri": "https://localhost:8080/",
          "height": 198
        }
      },
      "source": [
        "tup = (\"My Hero Academia\", \"Totoro\")\n",
        "tup.append(\"Your Name\")\n",
        "print(tup)"
      ],
      "execution_count": 0,
      "outputs": [
        {
          "output_type": "error",
          "ename": "AttributeError",
          "evalue": "ignored",
          "traceback": [
            "\u001b[0;31m---------------------------------------------------------------------------\u001b[0m",
            "\u001b[0;31mAttributeError\u001b[0m                            Traceback (most recent call last)",
            "\u001b[0;32m<ipython-input-39-b43b9ce87a9e>\u001b[0m in \u001b[0;36m<module>\u001b[0;34m()\u001b[0m\n\u001b[1;32m      1\u001b[0m \u001b[0mtup\u001b[0m \u001b[0;34m=\u001b[0m \u001b[0;34m(\u001b[0m\u001b[0;34m\"My Hero Academia\"\u001b[0m\u001b[0;34m,\u001b[0m \u001b[0;34m\"Totoro\"\u001b[0m\u001b[0;34m)\u001b[0m\u001b[0;34m\u001b[0m\u001b[0;34m\u001b[0m\u001b[0m\n\u001b[0;32m----> 2\u001b[0;31m \u001b[0mtup\u001b[0m\u001b[0;34m.\u001b[0m\u001b[0mappend\u001b[0m\u001b[0;34m(\u001b[0m\u001b[0;34m\"Your Name\"\u001b[0m\u001b[0;34m)\u001b[0m\u001b[0;34m\u001b[0m\u001b[0;34m\u001b[0m\u001b[0m\n\u001b[0m\u001b[1;32m      3\u001b[0m \u001b[0mprint\u001b[0m\u001b[0;34m(\u001b[0m\u001b[0mtup\u001b[0m\u001b[0;34m)\u001b[0m\u001b[0;34m\u001b[0m\u001b[0;34m\u001b[0m\u001b[0m\n",
            "\u001b[0;31mAttributeError\u001b[0m: 'tuple' object has no attribute 'append'"
          ]
        }
      ]
    },
    {
      "cell_type": "markdown",
      "metadata": {
        "id": "pqsHBWXbm3LH",
        "colab_type": "text"
      },
      "source": [
        "Tuples are typically faster for the computer to work with than lists, and they offer a form of protection on our data by not allowing us to modify the elements in a tuple."
      ]
    },
    {
      "cell_type": "markdown",
      "metadata": {
        "id": "1uZnrLQenKnT",
        "colab_type": "text"
      },
      "source": [
        "### Sets\n",
        "\n",
        "Another collection that we'll use to work with our data is a set, which is essentially the same as a set in math. The main difference between a set and a list is that a set is _unordered_ and _unindexed_. That is, while the order in a list matters (and we can refer to something as the 0th element in a list), the same is not true for sets.\n",
        "\n",
        "We denote sets in Python by using the curly braces: `{}`."
      ]
    },
    {
      "cell_type": "code",
      "metadata": {
        "id": "T4dpqp4en-dc",
        "colab_type": "code",
        "outputId": "a8e4dfc9-1e2a-4bce-df54-5d6c7e0985ec",
        "colab": {
          "base_uri": "https://localhost:8080/",
          "height": 34
        }
      },
      "source": [
        "some_list = [\"Item 0\", \"Item 1\"]\n",
        "some_set = {\"Some Item\", \"Another Item\"}\n",
        "\n",
        "print(some_list[1])\n",
        "\n",
        "# The following line will cause an error:\n",
        "# print(some_set[1])"
      ],
      "execution_count": 0,
      "outputs": [
        {
          "output_type": "stream",
          "text": [
            "Item 1\n"
          ],
          "name": "stdout"
        }
      ]
    },
    {
      "cell_type": "markdown",
      "metadata": {
        "id": "2KQ8juCboQSS",
        "colab_type": "text"
      },
      "source": [
        "Sets also only have unique elements, while lists do not."
      ]
    },
    {
      "cell_type": "code",
      "metadata": {
        "id": "eLZG-wigoU1_",
        "colab_type": "code",
        "outputId": "93910bb4-82fc-4d95-9244-bc4172906145",
        "colab": {
          "base_uri": "https://localhost:8080/",
          "height": 51
        }
      },
      "source": [
        "some_list = [\"Item\", \"Item\"]\n",
        "some_set = {\"Item\", \"Item\"}\n",
        "print(some_list)\n",
        "print(some_set)"
      ],
      "execution_count": 0,
      "outputs": [
        {
          "output_type": "stream",
          "text": [
            "['Item', 'Item']\n",
            "{'Item'}\n"
          ],
          "name": "stdout"
        }
      ]
    },
    {
      "cell_type": "markdown",
      "metadata": {
        "id": "raDH4NS-okHP",
        "colab_type": "text"
      },
      "source": [
        "Suppose you wanted to keep track of the names of each student in a classroom. Would you use a set or a list?\n",
        "\n",
        "The answer: It depends on what you're using it for! If you just cared about the unique number of names in your classroom, then a set might be more useful, because it won't keep track of duplicate names. If you wanted something to keep track of all the students in your class, then you should use a list (since people with the same name aren't the same people)!\n",
        "\n"
      ]
    },
    {
      "cell_type": "markdown",
      "metadata": {
        "id": "3lHFJuvkpuaS",
        "colab_type": "text"
      },
      "source": [
        "You cannot modify the individual elements in a set, but you can add and remove elements from the set. "
      ]
    },
    {
      "cell_type": "code",
      "metadata": {
        "id": "xzX3qkEBqQGc",
        "colab_type": "code",
        "outputId": "f0b5d36b-60c8-4377-a236-399f9b86e6ac",
        "colab": {
          "base_uri": "https://localhost:8080/",
          "height": 68
        }
      },
      "source": [
        "some_set = {\"Item\"}\n",
        "print(some_set)\n",
        "some_set.add(\"Other Item\")\n",
        "print(some_set)\n",
        "some_set.remove(\"Item\")\n",
        "print(some_set)"
      ],
      "execution_count": 0,
      "outputs": [
        {
          "output_type": "stream",
          "text": [
            "{'Item'}\n",
            "{'Other Item', 'Item'}\n",
            "{'Other Item'}\n"
          ],
          "name": "stdout"
        }
      ]
    },
    {
      "cell_type": "markdown",
      "metadata": {
        "id": "zmzkx3txqmoG",
        "colab_type": "text"
      },
      "source": [
        "Let's say you asked 10 people what their favorite ice cream flavors are, but just want to know the unique number of favorite flavors they liked. You can use a set to help with this task:"
      ]
    },
    {
      "cell_type": "code",
      "metadata": {
        "id": "l23oMmssq6no",
        "colab_type": "code",
        "outputId": "0ead4e70-c73e-4c84-99ca-2bd428b12425",
        "colab": {
          "base_uri": "https://localhost:8080/",
          "height": 51
        }
      },
      "source": [
        "fav_flavors = {\"strawberry\", \"vanilla\", \"chocolate\", \"green tea\", \"green tea\", \"vanilla\", \"green tea\", \"vanilla\", \"strawberry\", \"pistachio\"}\n",
        "\n",
        "# Remember that once you add those items into the set, the duplicates go away\n",
        "print(fav_flavors)\n",
        "\n",
        "# Print the length of the set\n",
        "print(len(fav_flavors))"
      ],
      "execution_count": 0,
      "outputs": [
        {
          "output_type": "stream",
          "text": [
            "{'green tea', 'pistachio', 'strawberry', 'vanilla', 'chocolate'}\n",
            "5\n"
          ],
          "name": "stdout"
        }
      ]
    },
    {
      "cell_type": "code",
      "metadata": {
        "id": "kldw2phkrUeC",
        "colab_type": "code",
        "outputId": "71d0f4d7-440c-488a-b320-28ed4ea5d539",
        "colab": {
          "base_uri": "https://localhost:8080/",
          "height": 51
        }
      },
      "source": [
        "# What if we tried this with a list?\n",
        "\n",
        "fav_flavors = [\"strawberry\", \"vanilla\", \"chocolate\", \"green tea\", \"green tea\", \"vanilla\", \"green tea\", \"vanilla\", \"strawberry\", \"pistachio\"]\n",
        "print(fav_flavors)\n",
        "\n",
        "# Print the length of the list\n",
        "print(len(fav_flavors))"
      ],
      "execution_count": 0,
      "outputs": [
        {
          "output_type": "stream",
          "text": [
            "['strawberry', 'vanilla', 'chocolate', 'green tea', 'green tea', 'vanilla', 'green tea', 'vanilla', 'strawberry', 'pistachio']\n",
            "10\n"
          ],
          "name": "stdout"
        }
      ]
    },
    {
      "cell_type": "markdown",
      "metadata": {
        "id": "-kIaIb7Tra_Z",
        "colab_type": "text"
      },
      "source": [
        "There are unique benefits to using either collection, and we'll use both as part of our toolbox when exploring and working with data.\n",
        "\n",
        "**Exercise:** Write a program that asks five people what their favorite animal is, and then returns the number of unique favorite animals.\n",
        "\n",
        "Bonus points for those who use a loop to ask for input and add to the set!"
      ]
    },
    {
      "cell_type": "code",
      "metadata": {
        "id": "uniCelP2vPn1",
        "colab_type": "code",
        "colab": {}
      },
      "source": [
        "# Your code here"
      ],
      "execution_count": 0,
      "outputs": []
    },
    {
      "cell_type": "markdown",
      "metadata": {
        "id": "Pg4h-1Kerm5a",
        "colab_type": "text"
      },
      "source": [
        "### Dictionaries\n",
        "\n",
        "The last collection we'll cover today is a dictionary, which is used just as you'd expect: like a dictionary.\n",
        "\n",
        "![alt text](https://media.giphy.com/media/umMYB9u0rpJyE/giphy.gif)\n",
        "\n",
        "Ok, so that's not the most helpful of explanations. Let's take a look at an example in code instead:"
      ]
    },
    {
      "cell_type": "code",
      "metadata": {
        "id": "FVB8Z9R2AqOJ",
        "colab_type": "code",
        "outputId": "b39f1cc1-92fc-4f76-d8d5-d4c95a5fa0e2",
        "colab": {
          "base_uri": "https://localhost:8080/",
          "height": 34
        }
      },
      "source": [
        "# This is how you define a dictionary\n",
        "\n",
        "definition = {\n",
        "    \"flammable\": \"easily set on fire\",\n",
        "    \"inflammable\": \"easily set on fire\",\n",
        "    \"nonflammable\": \"not catching fire easily\"\n",
        "}\n",
        "\n",
        "# In order to access an element in the dictionary, we refer to its \"key\"\n",
        "print(definition[\"flammable\"])"
      ],
      "execution_count": 0,
      "outputs": [
        {
          "output_type": "stream",
          "text": [
            "easily set on fire\n"
          ],
          "name": "stdout"
        }
      ]
    },
    {
      "cell_type": "markdown",
      "metadata": {
        "id": "Bp6UKK8RBdmZ",
        "colab_type": "text"
      },
      "source": [
        "In the above example, our dictionary is designed very similarly to an actual dictionary. When we ask for the definition of a word like `flammable`, we get in return a string with its definition `easily set on fire`.\n",
        "\n",
        "In this example, the word itself is called a _key_ and its definition is its _value_. You can think of dictionaries as sets, except every element is a key-value pair. Unlike lists where you access elements by using an integer index, you access elements in a dictionary by using the key."
      ]
    },
    {
      "cell_type": "code",
      "metadata": {
        "id": "TpaJt2iJC51u",
        "colab_type": "code",
        "colab": {}
      },
      "source": [
        "# Another example of a dictionary, this time with a mix of integer and string values\n",
        "\n",
        "album_1 = {\n",
        "    \"name\": \"Escape from New York\",\n",
        "    \"artist\": \"Beast Coast\",\n",
        "    \"year\": 2019\n",
        "}\n",
        "\n",
        "# How would we print out the artist of album_1?"
      ],
      "execution_count": 0,
      "outputs": []
    },
    {
      "cell_type": "markdown",
      "metadata": {
        "id": "_woFPH3DDaAj",
        "colab_type": "text"
      },
      "source": [
        "Just like with lists, you can add to dictionaries, remove from dictionaries, print the length of a dictionary, check for specific elements, and many more operations."
      ]
    },
    {
      "cell_type": "code",
      "metadata": {
        "id": "X--sYTBGDgv8",
        "colab_type": "code",
        "outputId": "fba103b5-e88e-420d-8aab-dd10c3d6c5a0",
        "colab": {
          "base_uri": "https://localhost:8080/",
          "height": 136
        }
      },
      "source": [
        "album_2 = {\n",
        "    \"name\": \"Sgt. Pepper's Lonely Hearts Club Band\"\n",
        "}\n",
        "\n",
        "# Inserting a new pair, with \"artist\" as the key and \"The Beatles\" as its value\n",
        "album_2[\"artist\"] = \"The Beatles\"\n",
        "print(album_2)\n",
        "\n",
        "album_2[\"year\"] = 1967\n",
        "print(len(album_2))\n",
        "\n",
        "print(\"artist\" in album_2)\n",
        "\n",
        "# Notice what the following will print:\n",
        "print(\"The Beatles\" in album_2)\n",
        "# This is because we can only search a dictionary by key, not by value\n",
        "\n",
        "# Deleting a key-value pair from the dictionary\n",
        "del album_2[\"artist\"]\n",
        "\n",
        "print(album_2)\n",
        "\n",
        "# If you just wanted the keys in a dictionary:\n",
        "print(album_2.keys())\n",
        "\n",
        "# Finally, if you want to clear out the entire dictionary:\n",
        "album_2.clear()\n",
        "print(album_2)"
      ],
      "execution_count": 0,
      "outputs": [
        {
          "output_type": "stream",
          "text": [
            "{'name': \"Sgt. Pepper's Lonely Hearts Club Band\", 'artist': 'The Beatles'}\n",
            "3\n",
            "True\n",
            "False\n",
            "{'name': \"Sgt. Pepper's Lonely Hearts Club Band\", 'year': 1967}\n",
            "dict_keys(['name', 'year'])\n",
            "{}\n"
          ],
          "name": "stdout"
        }
      ]
    },
    {
      "cell_type": "markdown",
      "metadata": {
        "id": "XEdjQggSFFci",
        "colab_type": "text"
      },
      "source": [
        "Notice that an empty dictionary is printed as `{}`, which at a glance looks like the same as an empty set. If you want to initialize an empty dictionary, you actually need to write `dict()`. Like so:"
      ]
    },
    {
      "cell_type": "code",
      "metadata": {
        "id": "sAcvVQuwFQzS",
        "colab_type": "code",
        "outputId": "e7bae3e3-174c-41c8-e0b2-84ee0950260b",
        "colab": {
          "base_uri": "https://localhost:8080/",
          "height": 238
        }
      },
      "source": [
        "empty_dict = dict()\n",
        "empty_set = {}\n",
        "\n",
        "empty_list = []\n",
        "empty_tuple = ()"
      ],
      "execution_count": 0,
      "outputs": [
        {
          "output_type": "error",
          "ename": "TypeError",
          "evalue": "ignored",
          "traceback": [
            "\u001b[0;31m---------------------------------------------------------------------------\u001b[0m",
            "\u001b[0;31mTypeError\u001b[0m                                 Traceback (most recent call last)",
            "\u001b[0;32m<ipython-input-12-e0ad064e898a>\u001b[0m in \u001b[0;36m<module>\u001b[0;34m()\u001b[0m\n\u001b[0;32m----> 1\u001b[0;31m \u001b[0mempty_dict\u001b[0m \u001b[0;34m=\u001b[0m \u001b[0mdict\u001b[0m\u001b[0;34m(\u001b[0m\u001b[0;34m)\u001b[0m\u001b[0;34m\u001b[0m\u001b[0;34m\u001b[0m\u001b[0m\n\u001b[0m\u001b[1;32m      2\u001b[0m \u001b[0mempty_set\u001b[0m \u001b[0;34m=\u001b[0m \u001b[0;34m{\u001b[0m\u001b[0;34m}\u001b[0m\u001b[0;34m\u001b[0m\u001b[0;34m\u001b[0m\u001b[0m\n\u001b[1;32m      3\u001b[0m \u001b[0;34m\u001b[0m\u001b[0m\n\u001b[1;32m      4\u001b[0m \u001b[0mempty_list\u001b[0m \u001b[0;34m=\u001b[0m \u001b[0;34m[\u001b[0m\u001b[0;34m]\u001b[0m\u001b[0;34m\u001b[0m\u001b[0;34m\u001b[0m\u001b[0m\n\u001b[1;32m      5\u001b[0m \u001b[0mempty_tuple\u001b[0m \u001b[0;34m=\u001b[0m \u001b[0;34m(\u001b[0m\u001b[0;34m)\u001b[0m\u001b[0;34m\u001b[0m\u001b[0;34m\u001b[0m\u001b[0m\n",
            "\u001b[0;31mTypeError\u001b[0m: 'dict' object is not callable"
          ]
        }
      ]
    },
    {
      "cell_type": "markdown",
      "metadata": {
        "id": "26SKSDhut1nx",
        "colab_type": "text"
      },
      "source": [
        "**Exercise:** Write a dictionary that contains the following information:\n",
        "\n",
        "```\n",
        "Issa       1\n",
        "Daniel     3\n",
        "Molly      2\n",
        "Kelli      3\n",
        "Lawrence   2\n",
        "```"
      ]
    },
    {
      "cell_type": "code",
      "metadata": {
        "id": "L38eUBKMuOPr",
        "colab_type": "code",
        "colab": {}
      },
      "source": [
        "# Code here\n",
        "\n",
        "dict = {\"Issa\":1, \"Daniel\":3, \"Molly\":2, \"Kelli\":3, \"Lawrence\":2}"
      ],
      "execution_count": 0,
      "outputs": []
    },
    {
      "cell_type": "markdown",
      "metadata": {
        "id": "6emD3oCIv3Ie",
        "colab_type": "text"
      },
      "source": [
        "**Exercise:** Write a program that asks five people if they prefer pineapple on pizza or no pineapple on pizza. Use a dictionary to keep track of how many votes each option gets, and then print out which of the two options is more popular."
      ]
    },
    {
      "cell_type": "code",
      "metadata": {
        "id": "QibbHBNHwvcf",
        "colab_type": "code",
        "outputId": "51ffcda5-1dcc-48b9-bb60-0c01a20d1725",
        "colab": {
          "base_uri": "https://localhost:8080/",
          "height": 140
        }
      },
      "source": [
        "# Some code to get you started:\n",
        "\n",
        "pineapple_votes = {\n",
        "    \"pineapple\": 0,\n",
        "    \"no pineapple\": 0\n",
        "}\n",
        "\n",
        "# Fill in the rest!\n",
        "\n",
        "for i in range(5):\n",
        "    user_input = input(\"Do you prefer pineapple or no pineapple on pizza? \")\n",
        "    if user_input.lower() == \"yes\":\n",
        "        pineapple_votes[\"pineapple\"] += 1\n",
        "    elif user_input.lower() == \"no\":\n",
        "        pineapple_votes[\"no pineapple\"] += 1\n",
        "\n",
        "print(pineapple_votes[\"pineapple\"], \"people liked pineapple on pizza\\n\" + str(pineapple_votes[\"no pineapple\"]), \"people do not like pineapple on piza\")        "
      ],
      "execution_count": 0,
      "outputs": [
        {
          "output_type": "stream",
          "text": [
            "Do you prefer pineapple or no pineapple on pizza? yes\n",
            "Do you prefer pineapple or no pineapple on pizza? no\n",
            "Do you prefer pineapple or no pineapple on pizza? yes\n",
            "Do you prefer pineapple or no pineapple on pizza? no\n",
            "Do you prefer pineapple or no pineapple on pizza? no\n",
            "2 people liked pineapple on pizza\n",
            "3 people do not like pineapple on piza\n"
          ],
          "name": "stdout"
        }
      ]
    },
    {
      "cell_type": "markdown",
      "metadata": {
        "id": "4uXGVFRzxA4W",
        "colab_type": "text"
      },
      "source": [
        "**Challenge Exercise:** Write a program that asks ten people what their favorite fast food restaurant is, and use a dictionary to keep track of all the votes. Print out which fast food restaurant is the most popular.\n",
        "\n",
        "Since strings are case-sensitive in Python, you should use the function `lower()` to convert all strings into lowercase. This way you won't have duplicate entries based just on capitalization differences. For example:"
      ]
    },
    {
      "cell_type": "code",
      "metadata": {
        "id": "XXVKMaxUxpDY",
        "colab_type": "code",
        "outputId": "dcfc4e6f-aab8-49a8-afd7-899d1fd8b307",
        "colab": {
          "base_uri": "https://localhost:8080/",
          "height": 34
        }
      },
      "source": [
        "test = \"String\"\n",
        "test = test.lower()\n",
        "print(test)"
      ],
      "execution_count": 0,
      "outputs": [
        {
          "output_type": "stream",
          "text": [
            "string\n"
          ],
          "name": "stdout"
        }
      ]
    },
    {
      "cell_type": "code",
      "metadata": {
        "id": "u2QciNBIxfQI",
        "colab_type": "code",
        "outputId": "7efb40e4-1aee-4023-d9f2-06ab7cebae98",
        "colab": {
          "base_uri": "https://localhost:8080/",
          "height": 210
        }
      },
      "source": [
        "# Your code here\n",
        "\n",
        "votes = {}\n",
        "\n",
        "def get_votes():\n",
        "    place = input(\"Enter your favorite fast food place: \")\n",
        "    if place.lower() not in votes:\n",
        "        votes[place.lower()] = 1\n",
        "    else:\n",
        "        votes[place.lower()] += 1\n",
        "        \n",
        "        \n",
        "for i in range(10):\n",
        "    get_votes()\n",
        "\n",
        "print(\"The votes were \", votes)\n",
        "    "
      ],
      "execution_count": 0,
      "outputs": [
        {
          "output_type": "stream",
          "text": [
            "Enter your favorite fast food place: mcdonalds\n",
            "Enter your favorite fast food place: burger kinG\n",
            "Enter your favorite fast food place: Jack in the Box\n",
            "Enter your favorite fast food place: McDonalds\n",
            "Enter your favorite fast food place: burger KINg\n",
            "Enter your favorite fast food place: burger kInG\n",
            "Enter your favorite fast food place: Burger KING\n",
            "Enter your favorite fast food place: McDonalds\n",
            "Enter your favorite fast food place: Jack in The Box\n",
            "Enter your favorite fast food place: Dennys\n",
            "The votes were  {'mcdonalds': 3, 'burger king': 4, 'jack in the box': 2, 'dennys': 1}\n"
          ],
          "name": "stdout"
        }
      ]
    },
    {
      "cell_type": "markdown",
      "metadata": {
        "id": "wvwyCpbKGA7d",
        "colab_type": "text"
      },
      "source": [
        "And that's it for the collections, aka data structures, that we'll be covering!"
      ]
    },
    {
      "cell_type": "markdown",
      "metadata": {
        "id": "WJ_v2bDDLSLh",
        "colab_type": "text"
      },
      "source": [
        "## Visualizing Data\n",
        "\n",
        "To wrap up this lesson, we'll cover one more topic: how to visualize the data that you've been given. Although data may be well organized in Python using the different collections, we often want to be able to present this data to the user in a visual way. Visualization comes in many different forms, from creating tables to colorful charts to just plotting some points on a graph."
      ]
    },
    {
      "cell_type": "code",
      "metadata": {
        "id": "jmcZUrdMHH1k",
        "colab_type": "code",
        "outputId": "51f621f4-77a9-4c92-9d27-0061b9a77ff4",
        "colab": {
          "base_uri": "https://localhost:8080/",
          "height": 34
        }
      },
      "source": [
        "# A list of tuples\n",
        "points_on_a_graph = [(3, 9), (1,1), (5, 25), (2, 4), (4, 16)]\n",
        "\n",
        "# We can print this list, but... is this the most useful?\n",
        "print(points_on_a_graph)"
      ],
      "execution_count": 0,
      "outputs": [
        {
          "output_type": "stream",
          "text": [
            "[(3, 9), (1, 1), (5, 25), (2, 4), (4, 16)]\n"
          ],
          "name": "stdout"
        }
      ]
    },
    {
      "cell_type": "markdown",
      "metadata": {
        "id": "bdjsfaq6Hl0b",
        "colab_type": "text"
      },
      "source": [
        "For visualization, we'll use a versatile Python library called `matplotlib`. (The reason it's called `matplotlib` is because much of the functionality of this library comes from a plotting library from a different language, calle Matlab.)\n",
        "\n",
        "For the first example, let's plot some points on a graph:"
      ]
    },
    {
      "cell_type": "code",
      "metadata": {
        "id": "s6cErtdVIj_T",
        "colab_type": "code",
        "outputId": "91f3786b-126f-4a71-d7c6-75ea404c69cd",
        "colab": {
          "base_uri": "https://localhost:8080/",
          "height": 269
        }
      },
      "source": [
        "%matplotlib inline\n",
        "import matplotlib\n",
        "\n",
        "x = [3, 1, 5, 2, 4]\n",
        "y = [9, 1, 25, 4, 16]\n",
        "\n",
        "matplotlib.pyplot.scatter(x, y)\n",
        "matplotlib.pyplot.show()"
      ],
      "execution_count": 0,
      "outputs": [
        {
          "output_type": "display_data",
          "data": {
            "image/png": "[encoded data removed]",
            "text/plain": [
              "<Figure size 432x288 with 1 Axes>"
            ]
          },
          "metadata": {
            "tags": []
          }
        }
      ]
    },
    {
      "cell_type": "markdown",
      "metadata": {
        "id": "LwdIY7FxJLS_",
        "colab_type": "text"
      },
      "source": [
        "The above code imports the `matplotlib` library, takes in two lists (which correspond to `x` and `y` values of 5 different points), and then plots those five points on a graph.\n",
        "\n",
        "For Jupyter Notebooks, in order to show a `matplotlib` graph within the Notebook itself, we need to add the line `%matplotlib inline` before doing the import.\n",
        "\n",
        "When we say `matplotlib.pyplot.scatter(x, y)`, we are saying that we want to put the values of `x` and `y` onto a specific type of graph called a scatterplot.\n",
        "\n",
        "Finally, to actually show the scatterplot, we say `matplotlib.pyplot.show()`.\n",
        "\n",
        "\n",
        "\n",
        "---\n",
        "\n",
        "\n",
        "It's a lot of typing to say `matplotlib.pyplot` every time we want to use functions from this library, so there's a shorthand that we can actually use, when importing the specific `pyplot` module:"
      ]
    },
    {
      "cell_type": "code",
      "metadata": {
        "id": "Xg5Paod-J9b5",
        "colab_type": "code",
        "outputId": "67e3769a-ce75-410e-ebe9-851f98c0d621",
        "colab": {
          "base_uri": "https://localhost:8080/",
          "height": 269
        }
      },
      "source": [
        "%matplotlib inline\n",
        "import matplotlib.pyplot as plt\n",
        "\n",
        "x = [3, 1, 5, 2, 4]\n",
        "y = [9, 1, 25, 4, 16]\n",
        "\n",
        "plt.scatter(x, y)\n",
        "plt.show()"
      ],
      "execution_count": 0,
      "outputs": [
        {
          "output_type": "display_data",
          "data": {
            "image/png": "[encoded data removed]",
            "text/plain": [
              "<Figure size 432x288 with 1 Axes>"
            ]
          },
          "metadata": {
            "tags": []
          }
        }
      ]
    },
    {
      "cell_type": "markdown",
      "metadata": {
        "id": "Lfpu2F7PKGzz",
        "colab_type": "text"
      },
      "source": [
        "All this says is that instead of importing all of `matplotlib`, which consists of many different modules, we'll only import the `matplotlib.pyplot` module, and we'll refer to it as `plt` from now on in our code.\n",
        "\n",
        "`pyplot` has a lot of different useful features that we can use to manipulate our visualization."
      ]
    },
    {
      "cell_type": "code",
      "metadata": {
        "id": "iC4vdtjkKmpi",
        "colab_type": "code",
        "outputId": "b784a7ca-36b4-4b9d-ac7b-6ee9dc1a4afb",
        "colab": {
          "base_uri": "https://localhost:8080/",
          "height": 283
        }
      },
      "source": [
        "%matplotlib inline\n",
        "import matplotlib.pyplot as plt\n",
        "\n",
        "x = [3, 1, 5, 2, 4]\n",
        "y = [9, 1, 25, 4, 16]\n",
        "\n",
        "plt.scatter(x, y)\n",
        "plt.xlabel(\"Some numbers\")\n",
        "plt.ylabel(\"Some other numbers\")\n",
        "\n",
        "# Notice that when we show the graph now, we'll have words along the x and y dimensions\n",
        "plt.show()"
      ],
      "execution_count": 0,
      "outputs": [
        {
          "output_type": "display_data",
          "data": {
            "image/png": "[encoded data removed]",
            "text/plain": [
              "<Figure size 432x288 with 1 Axes>"
            ]
          },
          "metadata": {
            "tags": []
          }
        }
      ]
    },
    {
      "cell_type": "markdown",
      "metadata": {
        "id": "HwO_AMXzLCfR",
        "colab_type": "text"
      },
      "source": [
        "Instead of using a scatter plot, we can use a normal plot to connect the actual points:"
      ]
    },
    {
      "cell_type": "code",
      "metadata": {
        "id": "DV_qg-zxLGr3",
        "colab_type": "code",
        "outputId": "25e96b32-8d60-4943-96dc-c98af19e9893",
        "colab": {
          "base_uri": "https://localhost:8080/",
          "height": 283
        }
      },
      "source": [
        "%matplotlib inline\n",
        "import matplotlib.pyplot as plt\n",
        "\n",
        "x = [3, 1, 5, 2, 4]\n",
        "y = [9, 1, 25, 4, 16]\n",
        "\n",
        "plt.plot(x, y)\n",
        "plt.xlabel(\"Some numbers\")\n",
        "plt.ylabel(\"Some other numbers\")\n",
        "plt.show()"
      ],
      "execution_count": 0,
      "outputs": [
        {
          "output_type": "display_data",
          "data": {
            "image/png": "[encoded data removed]",
            "text/plain": [
              "<Figure size 432x288 with 1 Axes>"
            ]
          },
          "metadata": {
            "tags": []
          }
        }
      ]
    },
    {
      "cell_type": "markdown",
      "metadata": {
        "id": "KbcPADkQLO6a",
        "colab_type": "text"
      },
      "source": [
        "Did this connect the points like you expected? The first point is $(3, 9)$ and the next point is $(1,1)$, so it will draw a line between the two. If we re-order our points, we might get something better:"
      ]
    },
    {
      "cell_type": "code",
      "metadata": {
        "id": "xsKCx6VbL6Yv",
        "colab_type": "code",
        "outputId": "78913bc2-291d-4b1a-ae52-97994b614269",
        "colab": {
          "base_uri": "https://localhost:8080/",
          "height": 283
        }
      },
      "source": [
        "%matplotlib inline\n",
        "import matplotlib.pyplot as plt\n",
        "\n",
        "x = [1, 2, 3, 4, 5]\n",
        "y = [1, 4, 9, 16, 25]\n",
        "\n",
        "plt.plot(x, y)\n",
        "plt.xlabel(\"Some numbers\")\n",
        "plt.ylabel(\"Some other numbers\")\n",
        "plt.show()"
      ],
      "execution_count": 0,
      "outputs": [
        {
          "output_type": "display_data",
          "data": {
            "image/png": "[encoded data removed]",
            "text/plain": [
              "<Figure size 432x288 with 1 Axes>"
            ]
          },
          "metadata": {
            "tags": []
          }
        }
      ]
    },
    {
      "cell_type": "markdown",
      "metadata": {
        "id": "JhuC7HSUMR7g",
        "colab_type": "text"
      },
      "source": [
        "There are many, many other functions, and we won't go over all of them. This is why it's common for programmers to refer to [documentation](https://matplotlib.org/api/index.html) when they read code, because there are so many different functions and libraries that exist in the world, and we need the documentation to help us understand what's going on.\n",
        "\n",
        "As you program more, you may also start to gain some intuition about how code you haven't seen before works:"
      ]
    },
    {
      "cell_type": "code",
      "metadata": {
        "id": "_x3AU9fONCDK",
        "colab_type": "code",
        "outputId": "806a3d66-57bc-47c8-9669-6fc1a44ee731",
        "colab": {
          "base_uri": "https://localhost:8080/",
          "height": 283
        }
      },
      "source": [
        "%matplotlib inline\n",
        "import matplotlib.pyplot as plt\n",
        "\n",
        "x = [1, 2, 3, 4, 5]\n",
        "y = [1, 4, 9, 16, 25]\n",
        "\n",
        "plt.plot(x, y)\n",
        "plt.xlabel(\"Some numbers\")\n",
        "plt.ylabel(\"Some other numbers\")\n",
        "\n",
        "# What might these following lines do?\n",
        "plt.gray()\n",
        "plt.axis([0, 10, 0, 100])\n",
        "\n",
        "plt.show()"
      ],
      "execution_count": 0,
      "outputs": [
        {
          "output_type": "display_data",
          "data": {
            "image/png": "[encoded data removed]",
            "text/plain": [
              "<Figure size 432x288 with 1 Axes>"
            ]
          },
          "metadata": {
            "tags": []
          }
        }
      ]
    }
  ]
}